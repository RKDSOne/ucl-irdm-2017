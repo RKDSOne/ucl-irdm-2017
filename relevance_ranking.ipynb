{
 "cells": [
  {
   "cell_type": "markdown",
   "metadata": {
    "deletable": true,
    "editable": true
   },
   "source": [
    "## Import Libraries & Data"
   ]
  },
  {
   "cell_type": "code",
   "execution_count": 2,
   "metadata": {
    "collapsed": false,
    "deletable": true,
    "editable": true
   },
   "outputs": [],
   "source": [
    "#!/usr/bin/env python\n",
    "# -*- coding: utf-8 -*-\n",
    "\n",
    "import numpy as np\n",
    "import pandas as pd\n",
    "from math import sqrt\n",
    "import collections\n",
    "import re\n",
    "import jellyfish # for edit and jaro distances\n",
    "from nltk.stem.snowball import SnowballStemmer # for stemming\n",
    "import sklearn\n",
    "from sklearn.metrics import mean_squared_error\n",
    "from sklearn.feature_extraction.text import TfidfVectorizer\n",
    "from sklearn.ensemble import ExtraTreesRegressor,GradientBoostingRegressor\n",
    "from sklearn.svm import SVR\n",
    "import matplotlib.pyplot as plt\n",
    "\n",
    "#Stemmer\n",
    "stemmer = SnowballStemmer(\"english\") # the best performing stemmer\n",
    "\n",
    "encoding = \"ISO-8859-1\"\n",
    "train_data = pd.read_csv('data/train.csv', encoding=encoding)\n",
    "test_data = pd.read_csv('data/test.csv', encoding=encoding)\n",
    "desc_data = pd.read_csv('data/product_descriptions.csv', encoding=encoding)\n",
    "attrs = pd.read_csv('data/attributes.csv', encoding=encoding)\n"
   ]
  },
  {
   "cell_type": "markdown",
   "metadata": {
    "deletable": true,
    "editable": true
   },
   "source": [
    "## Preprocessing Functions"
   ]
  },
  {
   "cell_type": "code",
   "execution_count": 3,
   "metadata": {
    "collapsed": false,
    "deletable": true,
    "editable": true
   },
   "outputs": [],
   "source": [
    "def tokenize(text):\n",
    "    '''\n",
    "    Description: Splits a string into a list of tokens according to regex matching chosen.\n",
    "    Input:       Text string\n",
    "    Output:      A list of tokens\n",
    "    '''\n",
    "    \n",
    "    text = re.sub(\"(?<=\\\\d)[x*](?=\\\\d)\",r' x ',text) # split substrings like '1x2' or '1*2' into '1 x 2'\n",
    "    text = re.sub(r\"(\\d+)([a-zA-Z_]+)\", r\"\\1 \\2\", text) # split substrings like '8ft' into '8 ft'  ((\\d+)((?!x)\\w+))\n",
    "    token = re.compile(\"\\d+[\\.\\/]\\d+|[\\w]+(?=n't)|n't|\\'m|\\'ll\\'re\\'d|[\\w]+|\\?\\!|[.?!;,\\-\\(\\)—\\:']\")\n",
    "    stop = ['(',')','','!','.',';',',','[',']','!','?',\"'\",'-','—','\"','\\\\'] # tokens to be removed from tokens\n",
    "    #'/','d','ll','a','o','m','s','y','an','the','be','ve','re','by','such','of'\n",
    "    return [f for f in token.findall(text) if f not in stop]\n",
    "\n",
    "\n",
    "def stem_and_lower(cell_val):\n",
    "    '''\n",
    "    Description: Applies stemming on specific value of a dataframe cell\n",
    "                 and turns all of the letters to lowercase\n",
    "    Input:       Text string\n",
    "    Output:      Same Text Stemmed and Lowercased \n",
    "    '''\n",
    "    \n",
    "    return \" \".join([stemmer.stem(word) for word in tokenize(cell_val.lower())])\n",
    "\n",
    "def count_words(query,doc):\n",
    "    '''\n",
    "    Description: Finds the frequency of a query's words in a document\n",
    "                 E.g. it can return the total number the words of \n",
    "                 search term appear in product title/product description\n",
    "    Input:       2 Texts\n",
    "    Output:      Length of the Intersection of their words \n",
    "    '''\n",
    "    \n",
    "    total=0\n",
    "    cnt= (collections.Counter(tokenize(doc)))\n",
    "    for word in tokenize(query):\n",
    "        total+=cnt[str(word)]\n",
    "    return total\n",
    "\n",
    "def word_percentage(query,doc):\n",
    "    '''\n",
    "    Description: Finds the percentage of the words in the query tha exist in a given document \n",
    "    Input:       2 Text Documents\n",
    "    Output:      Percentage of words of document one that exist in document two\n",
    "    '''\n",
    "    \n",
    "    total_query_words = len(query)\n",
    "    doc_words = tokenize(doc)\n",
    "    count_words = 0\n",
    "    for word in tokenize(query):\n",
    "        if word in doc_words:\n",
    "            count_words += 1\n",
    "    \n",
    "    return count_words/total_query_words\n",
    "        \n",
    "    \n",
    "def jaccard_coefficient(text1,text2):\n",
    "    '''\n",
    "    Description: Finds Jaccard Similarity among 2 texts\n",
    "    Input:       2 Text Documents\n",
    "    Output:      A float number from 0 to 1, stating the difference among the 2 text documents\n",
    "    '''\n",
    "    \n",
    "    text1=set(tokenize(text1))\n",
    "    text2=set(tokenize(text2))\n",
    "    return (len(text1 & text2))/(len(text1|text2))\n",
    "    \n",
    "def add_product_frequency(df):\n",
    "    '''Description: Finds the number of appearances of each product in our data\n",
    "       Input:       Our dataset that connects products and queries\n",
    "       Output:      Dataframe with an appended number to each row accompanying the products\n",
    "    '''\n",
    "    \n",
    "    df['product_count'] = df.groupby(['product_uid'])['id'].transform('count')\n",
    "    return df\n",
    "\n",
    "def add_product_description(df1,df2):\n",
    "    '''\n",
    "    Description: merging dataframes on a specific ('product_uid') key\n",
    "                 in order to include product_description in query data\n",
    "    Input:       2 dataframes df1,df2\n",
    "    Output:      A dataframe that includes information of both\n",
    "    '''\n",
    "    \n",
    "    return pd.merge(df1, df2, how='left', on='product_uid')\n",
    "\n",
    "\n",
    "def add_brand_name(df,brand_attrs):\n",
    "\n",
    "    df = pd.merge(df, brand_attrs, how='left', on='product_uid')\n",
    "    df = df.rename(columns={'value': 'brand_name'})\n",
    "    df.fillna('unknown', inplace=True)\n",
    "    return df\n",
    "\n",
    "def add_lengths(df):\n",
    "    ''' \n",
    "    Description: Adding the lengths of some informative columns as features\n",
    "    Input:       A data frame\n",
    "    Output:      The same data frame with appended values in each row\n",
    "    '''\n",
    "    \n",
    "    df['query_length'] = df['search_term'].map(lambda x:len(tokenize(x)))\n",
    "    df['title_length'] = df['product_title'].map(lambda x:len(tokenize(x)))\n",
    "    df['brand_name_length'] = df['brand_name'].map(lambda x:len(tokenize(x)))\n",
    "    df['product_description_length'] = df['product_description'].map(lambda x:len(tokenize(x)))\n",
    "    \n",
    "    return df \n",
    "\n",
    "def add_similarity_measures(df):\n",
    "    '''\n",
    "    Description: add columns regarding similarity measure applied among user queries,\n",
    "                 product title, product description and product brand name\n",
    "    Input:       A dataframe \n",
    "    Output:      Updated dataframe with similarity feature representations\n",
    "    '''\n",
    "    \n",
    "    #dummy column in order to find title & description relevances with query\n",
    "    df['query_title_description_brand'] = df['search_term']+\"\\t\"+df['product_title']+\"\\t\"+df['product_description']+\"\\t\"+df['brand_name']\n",
    "    \n",
    "    #Check if search term words exist in product title\n",
    "    df['title_includes_query'] = df['query_title_description_brand'].map(lambda x:count_words(x.split('\\t')[0],x.split('\\t')[1]))\n",
    "    df['description_includes_query'] = df['query_title_description_brand'].map(lambda x:count_words(x.split('\\t')[0],x.split('\\t')[2]))\n",
    "    df['brand_includes_query'] = df['query_title_description_brand'].map(lambda x:count_words(x.split('\\t')[0],x.split('\\t')[3]))\n",
    "    \n",
    "    #Check separately if the last word of the query belongs to title / description\n",
    "    df['query_last_word_in_title'] = df['query_title_description_brand'].map(lambda x:count_words(tokenize(x.split('\\t')[0])[-1],x.split('\\t')[1]))\n",
    "    df['query_last_word_in_description'] = df['query_title_description_brand'].map(lambda x:count_words(tokenize(x.split('\\t')[0])[-1],x.split('\\t')[2]))\n",
    "    \n",
    "    #Jaccard coefficient between search term-product title and search term-product_description pairs\n",
    "    df['jaccard_coefficient_query_title'] = df['query_title_description_brand'].map(lambda x:jaccard_coefficient(x.split('\\t')[0],x.split('\\t')[1]))\n",
    "    df['jaccard_coefficient_query_description'] = df['query_title_description_brand'].map(lambda x:jaccard_coefficient(x.split('\\t')[0],x.split('\\t')[2]))\n",
    "    #Jaccard coefficient between search term-brand name\n",
    "    df['jaccard_coefficient_query_brand'] = df['query_title_description_brand'].map(lambda x:jaccard_coefficient(x.split('\\t')[3],x.split('\\t')[0]))\n",
    "    \n",
    "    #Edit Distance between search term and product title('Levenshtein distance')\n",
    "    df['query_title_edit_distance'] = df['query_title_description_brand'].map(lambda x:jellyfish.levenshtein_distance(x.split('\\t')[0],x.split('\\t')[1]))\n",
    "    df['query_description_edit_distance'] = df['query_title_description_brand'].map(lambda x:jellyfish.levenshtein_distance(x.split('\\t')[0],x.split('\\t')[2]))\n",
    "    \n",
    "    #Jaro Distance between search term and product title('Levenshtein distance')\n",
    "    df['query_title_jaro_distance'] = df['query_title_description_brand'].map(lambda x:jellyfish.jaro_distance(x.split('\\t')[0],x.split('\\t')[1]))\n",
    "    df['query_description_jaro_distance'] = df['query_title_description_brand'].map(lambda x:jellyfish.jaro_distance(x.split('\\t')[0],x.split('\\t')[2]))\n",
    "    \n",
    "    #Drop dummy column\n",
    "    df = df.drop(['query_title_description_brand'], 1)\n",
    "    return df\n",
    "\n",
    "\n",
    "\n",
    "def stem_dataset(df):\n",
    "    '''\n",
    "    Description: Stemming values of specific columns \n",
    "    Input:       Dataframe to stem\n",
    "    Output:      Same Dataframe with the columns specified below\n",
    "                 being modified (stemmed)\n",
    "    '''\n",
    "    \n",
    "    # Stemming search_term,product_title,product_description,brand_name\n",
    "    df['search_term'] = df['search_term'].map(lambda x:stem_and_lower(x))  #.apply(lambda x: stemmer.stem(x))\n",
    "    df['product_title'] = df['product_title'].map(lambda x:stem_and_lower(x))  #.apply(lambda x: stemmer.stem(x))\n",
    "    df['product_description'] = df['product_description'].map(lambda x:stem_and_lower(x)) #.apply(lambda x: stemmer.stem(x))\n",
    "    df['brand_name'] = df['brand_name'].map(lambda x:stem_and_lower(x))\n",
    "\n",
    "    return df\n",
    "\n",
    "\n",
    "def preprocessing(data,desc_data,attrs,is_train):\n",
    "    '''\n",
    "    Description: Applies all the preprocessing functions to input dataset (train_X / test_X)\n",
    "    \n",
    "    Input:       data: Dataframe of dataset & \n",
    "                 desc_data: Dataframe of product description\n",
    "                 is_train:  Boolean that specifies if we deal with train or test set\n",
    "    Output:      Preprocessed dataset\n",
    "    '''\n",
    "    if is_train:\n",
    "        data = train_data.drop(['relevance'], 1)\n",
    "        \n",
    "    #Adding product description\n",
    "    data = add_product_description(data,desc_data)\n",
    "\n",
    "    #Adding brand name from attributes\n",
    "    brand_attrs = attrs[attrs.name.isin(['MFG Brand Name'])]\n",
    "    brand_attrs = brand_attrs.drop(['name'],axis=1)\n",
    "    data = add_brand_name(data,brand_attrs)\n",
    "\n",
    "    \n",
    "\n",
    "    data = add_lengths(data)\n",
    "\n",
    "    data = add_product_frequency(data)\n",
    "\n",
    "    data = stem_dataset(data)\n",
    "\n",
    "    data = add_similarity_measures(data)\n",
    "    \n",
    "    #Drop data that won't be used in the fitting\n",
    "    \n",
    "    data = data.drop(['search_term','product_title','product_description','brand_name'],axis=1)\n",
    "    data = data.drop_duplicates()\n",
    "\n",
    "    return data\n"
   ]
  },
  {
   "cell_type": "markdown",
   "metadata": {
    "deletable": true,
    "editable": true
   },
   "source": [
    "## Preprocess and Feature Engineering"
   ]
  },
  {
   "cell_type": "code",
   "execution_count": 4,
   "metadata": {
    "collapsed": false,
    "deletable": true,
    "editable": true
   },
   "outputs": [],
   "source": [
    "#Keep training labels on train_Y    \n",
    "train_Y = train_data['relevance']\n",
    "#Preprocess train and test data\n",
    "train_X = preprocessing(train_data,desc_data,attrs,True)\n",
    "test_X = preprocessing(test_data,desc_data,attrs,False)\n",
    "\n"
   ]
  },
  {
   "cell_type": "markdown",
   "metadata": {
    "deletable": true,
    "editable": true
   },
   "source": [
    "## Load Kaggle Solutions and Prepare Train/Test Set form"
   ]
  },
  {
   "cell_type": "code",
   "execution_count": 5,
   "metadata": {
    "collapsed": false,
    "deletable": true,
    "editable": true
   },
   "outputs": [],
   "source": [
    "#Loading Solutions from Kaggle\n",
    "sol = pd.read_csv('data/solution.csv')\n",
    "sol_not_ign=sol[(sol['Usage'])!='Ignored']\n",
    "\n",
    "#Prepare the form of training data\n",
    "X_train = train_X.values\n",
    "y_train = train_Y.values\n",
    "\n",
    "\n",
    "#Add relevance label to my test_set\n",
    "test_XY = pd.merge(sol_not_ign,test_X, on='id')\n",
    "y_gold = test_XY['relevance'].values\n",
    "X_test = (test_XY.drop(['relevance','Usage'],axis=1)).values\n"
   ]
  },
  {
   "cell_type": "markdown",
   "metadata": {
    "deletable": true,
    "editable": true
   },
   "source": [
    "## Cross Validation - Gridsearch"
   ]
  },
  {
   "cell_type": "code",
   "execution_count": 8,
   "metadata": {
    "collapsed": false,
    "deletable": true,
    "editable": true
   },
   "outputs": [
    {
     "name": "stderr",
     "output_type": "stream",
     "text": [
      "C:\\Program Files\\Anaconda3\\lib\\site-packages\\sklearn\\cross_validation.py:44: DeprecationWarning: This module was deprecated in version 0.18 in favor of the model_selection module into which all the refactored classes and functions are moved. Also note that the interface of the new CV iterators are different from that of this module. This module will be removed in 0.20.\n",
      "  \"This module will be removed in 0.20.\", DeprecationWarning)\n",
      "C:\\Program Files\\Anaconda3\\lib\\site-packages\\sklearn\\grid_search.py:43: DeprecationWarning: This module was deprecated in version 0.18 in favor of the model_selection module into which all the refactored classes and functions are moved. This module will be removed in 0.20.\n",
      "  DeprecationWarning)\n"
     ]
    },
    {
     "name": "stdout",
     "output_type": "stream",
     "text": [
      "Fitting 3 folds for each of 12 candidates, totalling 36 fits\n"
     ]
    },
    {
     "name": "stderr",
     "output_type": "stream",
     "text": [
      "[Parallel(n_jobs=-1)]: Done   1 tasks      | elapsed:    6.9s\n",
      "[Parallel(n_jobs=-1)]: Done   2 tasks      | elapsed:    7.0s\n",
      "[Parallel(n_jobs=-1)]: Done   3 tasks      | elapsed:    7.0s\n",
      "[Parallel(n_jobs=-1)]: Done   4 tasks      | elapsed:   13.2s\n",
      "[Parallel(n_jobs=-1)]: Done   5 tasks      | elapsed:   19.4s\n",
      "[Parallel(n_jobs=-1)]: Done   6 tasks      | elapsed:   19.7s\n",
      "[Parallel(n_jobs=-1)]: Done   7 tasks      | elapsed:   25.4s\n",
      "[Parallel(n_jobs=-1)]: Done   8 tasks      | elapsed:   28.9s\n",
      "[Parallel(n_jobs=-1)]: Done   9 tasks      | elapsed:   31.5s\n",
      "[Parallel(n_jobs=-1)]: Done  10 tasks      | elapsed:   34.8s\n",
      "[Parallel(n_jobs=-1)]: Done  11 tasks      | elapsed:   37.4s\n",
      "[Parallel(n_jobs=-1)]: Done  12 tasks      | elapsed:   38.0s\n",
      "[Parallel(n_jobs=-1)]: Done  13 tasks      | elapsed:   49.0s\n",
      "[Parallel(n_jobs=-1)]: Done  14 tasks      | elapsed:   52.3s\n",
      "[Parallel(n_jobs=-1)]: Done  15 tasks      | elapsed:   55.4s\n",
      "[Parallel(n_jobs=-1)]: Done  16 tasks      | elapsed:  1.1min\n",
      "[Parallel(n_jobs=-1)]: Done  17 tasks      | elapsed:  1.1min\n",
      "[Parallel(n_jobs=-1)]: Done  18 tasks      | elapsed:  1.3min\n",
      "[Parallel(n_jobs=-1)]: Done  19 tasks      | elapsed:  1.3min\n",
      "[Parallel(n_jobs=-1)]: Done  20 tasks      | elapsed:  1.3min\n",
      "[Parallel(n_jobs=-1)]: Done  21 tasks      | elapsed:  1.3min\n",
      "[Parallel(n_jobs=-1)]: Done  22 tasks      | elapsed:  1.7min\n",
      "[Parallel(n_jobs=-1)]: Done  23 tasks      | elapsed:  1.7min\n",
      "[Parallel(n_jobs=-1)]: Done  24 tasks      | elapsed:  1.7min\n",
      "[Parallel(n_jobs=-1)]: Done  25 tasks      | elapsed:  1.9min\n",
      "[Parallel(n_jobs=-1)]: Done  26 tasks      | elapsed:  2.0min\n",
      "[Parallel(n_jobs=-1)]: Done  27 tasks      | elapsed:  2.2min\n",
      "[Parallel(n_jobs=-1)]: Done  28 tasks      | elapsed:  2.3min\n",
      "[Parallel(n_jobs=-1)]: Done  29 tasks      | elapsed:  2.3min\n",
      "[Parallel(n_jobs=-1)]: Done  31 out of  36 | elapsed:  2.8min remaining:   27.1s\n",
      "[Parallel(n_jobs=-1)]: Done  33 out of  36 | elapsed:  2.8min remaining:   15.4s\n",
      "[Parallel(n_jobs=-1)]: Done  36 out of  36 | elapsed:  3.6min finished\n"
     ]
    },
    {
     "name": "stdout",
     "output_type": "stream",
     "text": [
      "      Iter       Train Loss      OOB Improve   Remaining Time \n",
      "         1           0.2788           0.0070            8.88s\n",
      "         2           0.2725           0.0056            8.22s\n",
      "         3           0.2680           0.0049            8.46s\n",
      "         4           0.2628           0.0040            8.08s\n",
      "         5           0.2596           0.0037            7.88s\n",
      "         6           0.2577           0.0029            8.07s\n",
      "         7           0.2546           0.0026            8.01s\n",
      "         8           0.2515           0.0027            7.83s\n",
      "         9           0.2493           0.0022            7.88s\n",
      "        10           0.2474           0.0017            7.68s\n",
      "        20           0.2360           0.0007            6.80s\n",
      "        30           0.2320           0.0002            5.82s\n",
      "        40           0.2300           0.0002            4.97s\n",
      "        50           0.2277           0.0001            4.13s\n",
      "        60           0.2278           0.0001            3.27s\n",
      "        70           0.2262           0.0000            2.43s\n",
      "        80           0.2251           0.0000            1.62s\n",
      "        90           0.2246          -0.0000            0.80s\n",
      "       100           0.2246           0.0000            0.00s\n",
      "Best parameters found by grid search for GBR:\n",
      "{'n_estimators': 100, 'max_depth': 3}\n",
      "Best CV score (RMSE) for GBR:\n",
      "0.4836495620301971\n"
     ]
    }
   ],
   "source": [
    "from sklearn import pipeline, grid_search\n",
    "gbr = GradientBoostingRegressor(random_state = 2017,subsample=0.8, verbose = 1)\n",
    "\n",
    "param_grid = {'n_estimators':[100,200,300],'max_depth': [3,4,5,6]}\n",
    "model = grid_search.GridSearchCV(estimator = gbr, param_grid = param_grid, n_jobs = -1,cv = 3, verbose = 20,scoring='neg_mean_squared_error')\n",
    "model.fit(X_train, y_train)\n",
    "\n",
    "print(\"Best parameters found by grid search for GBR:\")\n",
    "print(model.best_params_)\n",
    "best_cv_rmse = sqrt(abs(model.best_score_))\n",
    "best_cv_rmse\n",
    "print(\"Best CV score (RMSE) for GBR:\")\n",
    "print(best_cv_rmse)"
   ]
  },
  {
   "cell_type": "code",
   "execution_count": 9,
   "metadata": {
    "collapsed": false,
    "deletable": true,
    "editable": true,
    "scrolled": true
   },
   "outputs": [
    {
     "name": "stdout",
     "output_type": "stream",
     "text": [
      "Fitting 3 folds for each of 16 candidates, totalling 48 fits\n"
     ]
    },
    {
     "name": "stderr",
     "output_type": "stream",
     "text": [
      "[Parallel(n_jobs=-1)]: Done   1 tasks      | elapsed:    1.5s\n",
      "[Parallel(n_jobs=-1)]: Done   2 tasks      | elapsed:    1.6s\n",
      "[Parallel(n_jobs=-1)]: Done   3 tasks      | elapsed:    1.6s\n",
      "[Parallel(n_jobs=-1)]: Done   4 tasks      | elapsed:    2.8s\n",
      "[Parallel(n_jobs=-1)]: Done   5 tasks      | elapsed:    3.6s\n",
      "[Parallel(n_jobs=-1)]: Done   6 tasks      | elapsed:    3.7s\n",
      "[Parallel(n_jobs=-1)]: Done   7 tasks      | elapsed:    5.7s\n",
      "[Parallel(n_jobs=-1)]: Done   8 tasks      | elapsed:    6.8s\n",
      "[Parallel(n_jobs=-1)]: Done   9 tasks      | elapsed:    7.6s\n",
      "[Parallel(n_jobs=-1)]: Done  10 tasks      | elapsed:    8.9s\n",
      "[Parallel(n_jobs=-1)]: Done  11 tasks      | elapsed:   10.1s\n",
      "[Parallel(n_jobs=-1)]: Done  12 tasks      | elapsed:   11.4s\n",
      "[Parallel(n_jobs=-1)]: Done  13 tasks      | elapsed:   11.7s\n",
      "[Parallel(n_jobs=-1)]: Done  14 tasks      | elapsed:   13.7s\n",
      "[Parallel(n_jobs=-1)]: Done  15 tasks      | elapsed:   14.0s\n",
      "[Parallel(n_jobs=-1)]: Done  16 tasks      | elapsed:   14.3s\n",
      "[Parallel(n_jobs=-1)]: Done  17 tasks      | elapsed:   15.0s\n",
      "[Parallel(n_jobs=-1)]: Done  18 tasks      | elapsed:   16.2s\n",
      "[Parallel(n_jobs=-1)]: Done  19 tasks      | elapsed:   18.8s\n",
      "[Parallel(n_jobs=-1)]: Done  20 tasks      | elapsed:   19.1s\n",
      "[Parallel(n_jobs=-1)]: Done  21 tasks      | elapsed:   19.9s\n",
      "[Parallel(n_jobs=-1)]: Done  22 tasks      | elapsed:   21.3s\n",
      "[Parallel(n_jobs=-1)]: Done  23 tasks      | elapsed:   22.7s\n",
      "[Parallel(n_jobs=-1)]: Done  24 tasks      | elapsed:   24.2s\n",
      "[Parallel(n_jobs=-1)]: Done  25 tasks      | elapsed:   25.7s\n",
      "[Parallel(n_jobs=-1)]: Done  26 tasks      | elapsed:   27.0s\n",
      "[Parallel(n_jobs=-1)]: Done  27 tasks      | elapsed:   28.5s\n",
      "[Parallel(n_jobs=-1)]: Done  28 tasks      | elapsed:   28.5s\n",
      "[Parallel(n_jobs=-1)]: Done  29 tasks      | elapsed:   28.9s\n",
      "[Parallel(n_jobs=-1)]: Done  30 tasks      | elapsed:   29.9s\n",
      "[Parallel(n_jobs=-1)]: Done  31 tasks      | elapsed:   34.0s\n",
      "[Parallel(n_jobs=-1)]: Done  32 tasks      | elapsed:   34.0s\n",
      "[Parallel(n_jobs=-1)]: Done  33 tasks      | elapsed:   34.6s\n",
      "[Parallel(n_jobs=-1)]: Done  34 tasks      | elapsed:   36.2s\n",
      "[Parallel(n_jobs=-1)]: Done  35 tasks      | elapsed:   37.8s\n",
      "[Parallel(n_jobs=-1)]: Done  36 tasks      | elapsed:   39.4s\n",
      "[Parallel(n_jobs=-1)]: Done  37 tasks      | elapsed:   40.8s\n",
      "[Parallel(n_jobs=-1)]: Done  38 tasks      | elapsed:   42.6s\n",
      "[Parallel(n_jobs=-1)]: Done  39 tasks      | elapsed:   43.9s\n",
      "[Parallel(n_jobs=-1)]: Done  40 tasks      | elapsed:   44.9s\n",
      "[Parallel(n_jobs=-1)]: Done  41 tasks      | elapsed:   45.5s\n",
      "[Parallel(n_jobs=-1)]: Done  44 out of  48 | elapsed:   51.2s remaining:    4.6s\n",
      "[Parallel(n_jobs=-1)]: Done  48 out of  48 | elapsed:  1.1min finished\n"
     ]
    },
    {
     "name": "stdout",
     "output_type": "stream",
     "text": [
      "Best parameters found by grid search for ERT:\n",
      "{'n_estimators': 25, 'max_depth': 8}\n",
      "Best CV score(RMSE) for ERT:\n",
      "0.48999603611634274\n"
     ]
    },
    {
     "name": "stderr",
     "output_type": "stream",
     "text": [
      "[Parallel(n_jobs=1)]: Done  25 out of  25 | elapsed:    1.6s finished\n"
     ]
    }
   ],
   "source": [
    "from sklearn import pipeline, grid_search\n",
    "ert = ExtraTreesRegressor(random_state = 2017,verbose=1)\n",
    "\n",
    "param_grid = {'n_estimators':[25,50,100,200],'max_depth': [5,6,7,8]}\n",
    "model = grid_search.GridSearchCV(estimator = ert, param_grid = param_grid, n_jobs = -1,cv = 3, verbose = 20,scoring='neg_mean_squared_error')\n",
    "model.fit(X_train, y_train)\n",
    "\n",
    "print(\"Best parameters found by grid search for ERT:\")\n",
    "print(model.best_params_)\n",
    "best_cv_rmse = sqrt(abs(model.best_score_))\n",
    "best_cv_rmse\n",
    "print(\"Best CV score(RMSE) for ERT:\")\n",
    "print(best_cv_rmse)"
   ]
  },
  {
   "cell_type": "code",
   "execution_count": 10,
   "metadata": {
    "collapsed": false,
    "deletable": true,
    "editable": true,
    "scrolled": true
   },
   "outputs": [
    {
     "name": "stdout",
     "output_type": "stream",
     "text": [
      "Fitting 3 folds for each of 12 candidates, totalling 36 fits\n"
     ]
    },
    {
     "name": "stderr",
     "output_type": "stream",
     "text": [
      "[Parallel(n_jobs=-1)]: Done   1 tasks      | elapsed: 17.0min\n",
      "[Parallel(n_jobs=-1)]: Done   2 tasks      | elapsed: 17.1min\n",
      "[Parallel(n_jobs=-1)]: Done   3 tasks      | elapsed: 18.2min\n",
      "[Parallel(n_jobs=-1)]: Done   4 tasks      | elapsed: 21.0min\n",
      "[Parallel(n_jobs=-1)]: Done   5 tasks      | elapsed: 33.5min\n",
      "[Parallel(n_jobs=-1)]: Done   6 tasks      | elapsed: 35.2min\n",
      "[Parallel(n_jobs=-1)]: Done   7 tasks      | elapsed: 35.2min\n",
      "[Parallel(n_jobs=-1)]: Done   8 tasks      | elapsed: 36.3min\n",
      "[Parallel(n_jobs=-1)]: Done   9 tasks      | elapsed: 46.9min\n",
      "[Parallel(n_jobs=-1)]: Done  10 tasks      | elapsed: 52.8min\n",
      "[Parallel(n_jobs=-1)]: Done  11 tasks      | elapsed: 53.0min\n",
      "[Parallel(n_jobs=-1)]: Done  12 tasks      | elapsed: 56.2min\n",
      "[Parallel(n_jobs=-1)]: Done  13 tasks      | elapsed: 66.0min\n",
      "[Parallel(n_jobs=-1)]: Done  14 tasks      | elapsed: 68.9min\n",
      "[Parallel(n_jobs=-1)]: Done  15 tasks      | elapsed: 70.0min\n",
      "[Parallel(n_jobs=-1)]: Done  16 tasks      | elapsed: 72.4min\n",
      "[Parallel(n_jobs=-1)]: Done  17 tasks      | elapsed: 82.6min\n",
      "[Parallel(n_jobs=-1)]: Done  18 tasks      | elapsed: 83.1min\n",
      "[Parallel(n_jobs=-1)]: Done  19 tasks      | elapsed: 88.0min\n",
      "[Parallel(n_jobs=-1)]: Done  20 tasks      | elapsed: 89.9min\n",
      "[Parallel(n_jobs=-1)]: Done  21 tasks      | elapsed: 102.2min\n",
      "[Parallel(n_jobs=-1)]: Done  22 tasks      | elapsed: 102.7min\n",
      "[Parallel(n_jobs=-1)]: Done  23 tasks      | elapsed: 105.2min\n",
      "[Parallel(n_jobs=-1)]: Done  24 tasks      | elapsed: 105.7min\n",
      "[Parallel(n_jobs=-1)]: Done  25 tasks      | elapsed: 118.5min\n",
      "[Parallel(n_jobs=-1)]: Done  26 tasks      | elapsed: 118.8min\n",
      "[Parallel(n_jobs=-1)]: Done  27 tasks      | elapsed: 119.8min\n",
      "[Parallel(n_jobs=-1)]: Done  28 tasks      | elapsed: 123.5min\n",
      "[Parallel(n_jobs=-1)]: Done  29 tasks      | elapsed: 136.0min\n",
      "[Parallel(n_jobs=-1)]: Done  31 out of  36 | elapsed: 139.0min remaining: 22.4min\n",
      "[Parallel(n_jobs=-1)]: Done  33 out of  36 | elapsed: 151.9min remaining: 13.8min\n",
      "[Parallel(n_jobs=-1)]: Done  36 out of  36 | elapsed: 156.0min finished\n"
     ]
    },
    {
     "name": "stdout",
     "output_type": "stream",
     "text": [
      "Best parameters found by grid search for SVM:\n",
      "{'epsilon': 0.3, 'C': 10}\n",
      "Best CV score(RMSE) for SVM:\n",
      "0.540592733667966\n"
     ]
    }
   ],
   "source": [
    "from sklearn import pipeline, grid_search\n",
    "svr_model = SVR()\n",
    "\n",
    "param_grid = {'C':[1,10,100,1000],'epsilon': [0.1,0.2,0.3]}\n",
    "model = grid_search.GridSearchCV(estimator = svr_model, param_grid = param_grid, n_jobs = -1,cv = 3, verbose = 20,scoring='neg_mean_squared_error')\n",
    "model.fit(X_train, y_train)\n",
    "\n",
    "print(\"Best parameters found by grid search for SVM:\")\n",
    "print(model.best_params_)\n",
    "best_cv_rmse = sqrt(abs(model.best_score_))\n",
    "best_cv_rmse\n",
    "print(\"Best CV score(RMSE) for SVM:\")\n",
    "print(best_cv_rmse)"
   ]
  },
  {
   "cell_type": "markdown",
   "metadata": {
    "deletable": true,
    "editable": true
   },
   "source": [
    "## Models (Random Forest, Gradient Boosting,SVM etc.)"
   ]
  },
  {
   "cell_type": "markdown",
   "metadata": {
    "deletable": true,
    "editable": true
   },
   "source": [
    "### SVM"
   ]
  },
  {
   "cell_type": "code",
   "execution_count": 11,
   "metadata": {
    "collapsed": false,
    "deletable": true,
    "editable": true
   },
   "outputs": [
    {
     "data": {
      "text/plain": [
       "0.5357064963272871"
      ]
     },
     "execution_count": 11,
     "metadata": {},
     "output_type": "execute_result"
    }
   ],
   "source": [
    "svr_model = SVR(C = 100, epsilon=0.3, gamma='auto')\n",
    "svr_model.fit(X_train, y_train)\n",
    "y_pred = svr_model.predict(X_test)\n",
    "\n",
    "rmse = sqrt(mean_squared_error(y_gold,y_pred))  \n",
    "rmse"
   ]
  },
  {
   "cell_type": "markdown",
   "metadata": {
    "deletable": true,
    "editable": true
   },
   "source": [
    "### Extremely Randomized Trees"
   ]
  },
  {
   "cell_type": "code",
   "execution_count": 13,
   "metadata": {
    "collapsed": false,
    "deletable": true,
    "editable": true,
    "scrolled": true
   },
   "outputs": [
    {
     "name": "stderr",
     "output_type": "stream",
     "text": [
      "[Parallel(n_jobs=1)]: Done 200 out of 200 | elapsed:   13.6s finished\n",
      "[Parallel(n_jobs=1)]: Done 200 out of 200 | elapsed:    1.3s finished\n"
     ]
    },
    {
     "data": {
      "text/plain": [
       "0.4844988405933885"
      ]
     },
     "execution_count": 13,
     "metadata": {},
     "output_type": "execute_result"
    }
   ],
   "source": [
    "ert = ExtraTreesRegressor(n_estimators=200,max_depth=8,verbose=1)\n",
    "ert.fit(X_train, y_train)\n",
    "y_pred = ert.predict(X_test)\n",
    "\n",
    "rmse = sqrt(mean_squared_error(y_gold,y_pred)) \n",
    "rmse"
   ]
  },
  {
   "cell_type": "markdown",
   "metadata": {
    "deletable": true,
    "editable": true
   },
   "source": [
    "### Gradient Bossting Regression (with / without Bagging)"
   ]
  },
  {
   "cell_type": "code",
   "execution_count": 6,
   "metadata": {
    "collapsed": false,
    "deletable": true,
    "editable": true
   },
   "outputs": [
    {
     "name": "stdout",
     "output_type": "stream",
     "text": [
      "      Iter       Train Loss   Remaining Time \n",
      "         1           0.2769           41.25s\n",
      "         2           0.2701           40.53s\n",
      "         3           0.2644           42.04s\n",
      "         4           0.2597           41.38s\n",
      "         5           0.2558           41.16s\n",
      "         6           0.2524           41.68s\n",
      "         7           0.2495           41.68s\n",
      "         8           0.2471           41.29s\n",
      "         9           0.2450           41.01s\n",
      "        10           0.2432           41.14s\n",
      "        20           0.2324           38.76s\n",
      "        30           0.2282           36.11s\n",
      "        40           0.2261           34.04s\n",
      "        50           0.2246           32.79s\n",
      "        60           0.2237           31.33s\n",
      "        70           0.2229           29.43s\n",
      "        80           0.2221           27.84s\n",
      "        90           0.2214           26.34s\n",
      "       100           0.2209           24.74s\n",
      "       200           0.2158           11.79s\n",
      "       300           0.2115            0.00s\n"
     ]
    },
    {
     "data": {
      "text/plain": [
       "0.4791155474928127"
      ]
     },
     "execution_count": 6,
     "metadata": {},
     "output_type": "execute_result"
    }
   ],
   "source": [
    "gbr = GradientBoostingRegressor(n_estimators=300,max_depth=4,subsample=1, random_state = 2017, verbose = 1)\n",
    "\n",
    "gbr.fit(X_train, y_train)\n",
    "y_pred = gbr.predict(X_test)\n",
    "\n",
    "rmse = sqrt(mean_squared_error(y_gold,y_pred)) \n",
    "rmse\n"
   ]
  },
  {
   "cell_type": "markdown",
   "metadata": {
    "deletable": true,
    "editable": true
   },
   "source": [
    "## Error Analysis"
   ]
  },
  {
   "cell_type": "code",
   "execution_count": 10,
   "metadata": {
    "collapsed": false,
    "deletable": true,
    "editable": true
   },
   "outputs": [
    {
     "data": {
      "image/png": "[encoded data removed]",
      "text/plain": [
       "<matplotlib.figure.Figure at 0x7f7787bd9710>"
      ]
     },
     "metadata": {},
     "output_type": "display_data"
    },
    {
     "data": {
      "image/png": "[encoded data removed]",
      "text/plain": [
       "<matplotlib.figure.Figure at 0x7f778bfdfb38>"
      ]
     },
     "metadata": {},
     "output_type": "display_data"
    }
   ],
   "source": [
    "plt.hist(y_gold)\n",
    "plt.title('Distribution of True Relevance Scores')\n",
    "plt.xlabel('Relevance Score')\n",
    "plt.ylabel('Occurrences')\n",
    "plt.savefig('y_gold_hist.png', dpi=100)\n",
    "plt.show()\n",
    "\n",
    "plt.hist(y_pred)\n",
    "plt.title('Distribution of Predicted Relevance Scores')\n",
    "plt.xlabel('Relevance Score')\n",
    "plt.ylabel('Occurrences')\n",
    "plt.savefig('y_pred_hist.png', dpi=100)\n",
    "plt.show()"
   ]
  }
 ],
 "metadata": {
  "anaconda-cloud": {},
  "kernelspec": {
   "display_name": "Python [conda root]",
   "language": "python",
   "name": "conda-root-py"
  },
  "language_info": {
   "codemirror_mode": {
    "name": "ipython",
    "version": 3
   },
   "file_extension": ".py",
   "mimetype": "text/x-python",
   "name": "python",
   "nbconvert_exporter": "python",
   "pygments_lexer": "ipython3",
   "version": "3.5.2"
  }
 },
 "nbformat": 4,
 "nbformat_minor": 1
}
